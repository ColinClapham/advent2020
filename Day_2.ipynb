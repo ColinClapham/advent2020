{
 "cells": [
  {
   "cell_type": "code",
   "execution_count": 1,
   "metadata": {},
   "outputs": [],
   "source": [
    "import csv\n",
    "import numpy as np"
   ]
  },
  {
   "cell_type": "markdown",
   "metadata": {},
   "source": [
    "# Question 1"
   ]
  },
  {
   "cell_type": "code",
   "execution_count": 79,
   "metadata": {},
   "outputs": [
    {
     "name": "stdout",
     "output_type": "stream",
     "text": [
      "582\n"
     ]
    }
   ],
   "source": [
    "def main():\n",
    "    input_list = []\n",
    "    with open(\"passwords.txt\") as file:\n",
    "        input_list = [line.strip() for line in file]\n",
    "\n",
    "    def valid_password(min, max, letter, password):\n",
    "        password_list = list(password)\n",
    "        count = password_list.count(letter)\n",
    "        if min <= count <= max:\n",
    "            return True\n",
    "\n",
    "        return False\n",
    "\n",
    "    result = 0\n",
    "    for entry in input_list:\n",
    "        line_list = entry.split(\" \")\n",
    "        min_max = [int(x) for x in line_list[0].split(\"-\")]\n",
    "        letter = line_list[1][0]\n",
    "        password = line_list[2]\n",
    "        if valid_password(min_max[0], min_max[1], letter, password):\n",
    "            result += 1\n",
    "\n",
    "    return result\n",
    "\n",
    "if __name__ == '__main__':\n",
    "    answer = main()\n",
    "    print(answer)"
   ]
  },
  {
   "cell_type": "markdown",
   "metadata": {},
   "source": [
    "# Question 2"
   ]
  },
  {
   "cell_type": "code",
   "execution_count": 83,
   "metadata": {},
   "outputs": [
    {
     "name": "stdout",
     "output_type": "stream",
     "text": [
      "729\n"
     ]
    }
   ],
   "source": [
    "def main():\n",
    "    input_list = []\n",
    "    with open(\"passwords.txt\") as file:\n",
    "        input_list = [line.strip() for line in file]\n",
    "\n",
    "    def valid_password(pos1, pos2, letter, password):\n",
    "        password_list = list(password)\n",
    "        key1 = password_list[pos1 - 1]\n",
    "        key2 = password_list[pos2 - 1]\n",
    "        if (letter == key1 and letter != key2) or (letter == key2 and letter != key1):\n",
    "            return True\n",
    "\n",
    "        return False\n",
    "\n",
    "    result = 0\n",
    "    for entry in input_list:\n",
    "        line_list = entry.split(\" \")\n",
    "        min_max = [int(x) for x in line_list[0].split(\"-\")]\n",
    "        letter = line_list[1][0]\n",
    "        password = line_list[2]\n",
    "        if valid_password(min_max[0], min_max[1], letter, password):\n",
    "            result += 1\n",
    "\n",
    "    return result\n",
    "\n",
    "if __name__ == '__main__':\n",
    "    answer = main()\n",
    "    print(answer)"
   ]
  },
  {
   "cell_type": "code",
   "execution_count": null,
   "metadata": {},
   "outputs": [],
   "source": []
  }
 ],
 "metadata": {
  "kernelspec": {
   "display_name": "Python 3",
   "language": "python",
   "name": "python3"
  },
  "language_info": {
   "codemirror_mode": {
    "name": "ipython",
    "version": 3
   },
   "file_extension": ".py",
   "mimetype": "text/x-python",
   "name": "python",
   "nbconvert_exporter": "python",
   "pygments_lexer": "ipython3",
   "version": "3.8.3"
  }
 },
 "nbformat": 4,
 "nbformat_minor": 4
}
