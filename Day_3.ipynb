{
 "cells": [
  {
   "cell_type": "code",
   "execution_count": 1,
   "metadata": {},
   "outputs": [],
   "source": [
    "import numpy as np"
   ]
  },
  {
   "cell_type": "code",
   "execution_count": 2,
   "metadata": {},
   "outputs": [],
   "source": [
    "with open(\"input_Q3.txt\") as file:\n",
    "        input_list = [line.strip() for line in file]"
   ]
  },
  {
   "cell_type": "markdown",
   "metadata": {},
   "source": [
    "# Question 1"
   ]
  },
  {
   "cell_type": "code",
   "execution_count": 3,
   "metadata": {},
   "outputs": [],
   "source": [
    "y = 0\n",
    "x = 0\n",
    "tree_count = 0"
   ]
  },
  {
   "cell_type": "code",
   "execution_count": 4,
   "metadata": {},
   "outputs": [
    {
     "name": "stdout",
     "output_type": "stream",
     "text": [
      "244\n"
     ]
    }
   ],
   "source": [
    "while y < len(input_list):\n",
    "    for i in range(len(input_list)):\n",
    "        if input_list[y][x] == '#':\n",
    "            tree_count += 1\n",
    "            \n",
    "        y += 1\n",
    "        x += 3\n",
    "        \n",
    "        if x >= len(input_list[0]):\n",
    "            x = x - len(input_list[0])\n",
    "\n",
    "print(tree_count)"
   ]
  },
  {
   "cell_type": "markdown",
   "metadata": {},
   "source": [
    "# Question 2"
   ]
  },
  {
   "cell_type": "code",
   "execution_count": 5,
   "metadata": {},
   "outputs": [
    {
     "name": "stdout",
     "output_type": "stream",
     "text": [
      "90\n"
     ]
    }
   ],
   "source": [
    "y = 0\n",
    "x = 0\n",
    "tree_count_1 = 0\n",
    "\n",
    "while y < len(input_list):\n",
    "    for i in range(len(input_list)):\n",
    "        if input_list[y][x] == '#':\n",
    "            tree_count_1 += 1\n",
    "            \n",
    "        y += 1\n",
    "        x += 1\n",
    "        \n",
    "        if x >= len(input_list[0]):\n",
    "            x = x - len(input_list[0])\n",
    "\n",
    "print(tree_count_1)"
   ]
  },
  {
   "cell_type": "code",
   "execution_count": 6,
   "metadata": {},
   "outputs": [
    {
     "name": "stdout",
     "output_type": "stream",
     "text": [
      "244\n"
     ]
    }
   ],
   "source": [
    "y = 0\n",
    "x = 0\n",
    "tree_count_2 = 0\n",
    "\n",
    "while y < len(input_list):\n",
    "    for i in range(len(input_list)):\n",
    "        if input_list[y][x] == '#':\n",
    "            tree_count_2 += 1\n",
    "            \n",
    "        y += 1\n",
    "        x += 3\n",
    "        \n",
    "        if x >= len(input_list[0]):\n",
    "            x = x - len(input_list[0])\n",
    "\n",
    "print(tree_count_2)"
   ]
  },
  {
   "cell_type": "code",
   "execution_count": 7,
   "metadata": {},
   "outputs": [
    {
     "name": "stdout",
     "output_type": "stream",
     "text": [
      "97\n"
     ]
    }
   ],
   "source": [
    "y = 0\n",
    "x = 0\n",
    "tree_count_3 = 0\n",
    "\n",
    "while y < len(input_list):\n",
    "    for i in range(len(input_list)):\n",
    "        if input_list[y][x] == '#':\n",
    "            tree_count_3 += 1\n",
    "            \n",
    "        y += 1\n",
    "        x += 5\n",
    "        \n",
    "        if x >= len(input_list[0]):\n",
    "            x = x - len(input_list[0])\n",
    "\n",
    "print(tree_count_3)"
   ]
  },
  {
   "cell_type": "code",
   "execution_count": 8,
   "metadata": {},
   "outputs": [
    {
     "name": "stdout",
     "output_type": "stream",
     "text": [
      "92\n"
     ]
    }
   ],
   "source": [
    "y = 0\n",
    "x = 0\n",
    "tree_count_4 = 0\n",
    "\n",
    "while y < len(input_list):\n",
    "    for i in range(len(input_list)):\n",
    "        if input_list[y][x] == '#':\n",
    "            tree_count_4 += 1\n",
    "            \n",
    "        y += 1\n",
    "        x += 7\n",
    "        \n",
    "        if x >= len(input_list[0]):\n",
    "            x = x - len(input_list[0])\n",
    "\n",
    "print(tree_count_4)"
   ]
  },
  {
   "cell_type": "code",
   "execution_count": 9,
   "metadata": {},
   "outputs": [
    {
     "ename": "IndexError",
     "evalue": "list index out of range",
     "output_type": "error",
     "traceback": [
      "\u001b[0;31m---------------------------------------------------------------------------\u001b[0m",
      "\u001b[0;31mIndexError\u001b[0m                                Traceback (most recent call last)",
      "\u001b[0;32m<ipython-input-9-aa58a158dd32>\u001b[0m in \u001b[0;36m<module>\u001b[0;34m\u001b[0m\n\u001b[1;32m      5\u001b[0m \u001b[0;32mwhile\u001b[0m \u001b[0my\u001b[0m \u001b[0;34m<\u001b[0m \u001b[0mlen\u001b[0m\u001b[0;34m(\u001b[0m\u001b[0minput_list\u001b[0m\u001b[0;34m)\u001b[0m\u001b[0;34m:\u001b[0m\u001b[0;34m\u001b[0m\u001b[0;34m\u001b[0m\u001b[0m\n\u001b[1;32m      6\u001b[0m     \u001b[0;32mfor\u001b[0m \u001b[0mi\u001b[0m \u001b[0;32min\u001b[0m \u001b[0mrange\u001b[0m\u001b[0;34m(\u001b[0m\u001b[0mlen\u001b[0m\u001b[0;34m(\u001b[0m\u001b[0minput_list\u001b[0m\u001b[0;34m)\u001b[0m\u001b[0;34m)\u001b[0m\u001b[0;34m:\u001b[0m\u001b[0;34m\u001b[0m\u001b[0;34m\u001b[0m\u001b[0m\n\u001b[0;32m----> 7\u001b[0;31m         \u001b[0;32mif\u001b[0m \u001b[0minput_list\u001b[0m\u001b[0;34m[\u001b[0m\u001b[0my\u001b[0m\u001b[0;34m]\u001b[0m\u001b[0;34m[\u001b[0m\u001b[0mx\u001b[0m\u001b[0;34m]\u001b[0m \u001b[0;34m==\u001b[0m \u001b[0;34m'#'\u001b[0m\u001b[0;34m:\u001b[0m\u001b[0;34m\u001b[0m\u001b[0;34m\u001b[0m\u001b[0m\n\u001b[0m\u001b[1;32m      8\u001b[0m             \u001b[0mtree_count_5\u001b[0m \u001b[0;34m+=\u001b[0m \u001b[0;36m1\u001b[0m\u001b[0;34m\u001b[0m\u001b[0;34m\u001b[0m\u001b[0m\n\u001b[1;32m      9\u001b[0m \u001b[0;34m\u001b[0m\u001b[0m\n",
      "\u001b[0;31mIndexError\u001b[0m: list index out of range"
     ]
    }
   ],
   "source": [
    "y = 0\n",
    "x = 0\n",
    "tree_count_5 = 0\n",
    "\n",
    "while y < len(input_list):\n",
    "    for i in range(len(input_list)):\n",
    "        if input_list[y][x] == '#':\n",
    "            tree_count_5 += 1\n",
    "            \n",
    "        y += 2\n",
    "        x += 1\n",
    "        \n",
    "        if x >= len(input_list[0]):\n",
    "            x = x - len(input_list[0])\n",
    "            \n",
    "print(tree_count_5)"
   ]
  },
  {
   "cell_type": "code",
   "execution_count": 10,
   "metadata": {},
   "outputs": [
    {
     "name": "stdout",
     "output_type": "stream",
     "text": [
      "9406609920\n"
     ]
    }
   ],
   "source": [
    "print(tree_count_1 * tree_count_2 * tree_count_3 * tree_count_4 * tree_count_5)"
   ]
  }
 ],
 "metadata": {
  "kernelspec": {
   "display_name": "Python 3",
   "language": "python",
   "name": "python3"
  },
  "language_info": {
   "codemirror_mode": {
    "name": "ipython",
    "version": 3
   },
   "file_extension": ".py",
   "mimetype": "text/x-python",
   "name": "python",
   "nbconvert_exporter": "python",
   "pygments_lexer": "ipython3",
   "version": "3.8.3"
  }
 },
 "nbformat": 4,
 "nbformat_minor": 4
}
